{
 "cells": [
  {
   "cell_type": "code",
   "execution_count": 1,
   "metadata": {},
   "outputs": [
    {
     "name": "stdout",
     "output_type": "stream",
     "text": [
      "enter string: banana\n",
      "banana\n"
     ]
    }
   ],
   "source": [
    "#Task 1\n",
    "#string 1\n",
    "\n",
    "string=input('enter string: ')\n",
    "upper=0\n",
    "lower=0\n",
    "for i in string:\n",
    "    if 65<=ord(i)<=90:\n",
    "        upper+=1\n",
    "    elif 97<=ord(i)<=122:\n",
    "        lower+=1\n",
    "if upper>lower:\n",
    "    print(string.upper())\n",
    "elif upper<=lower:\n",
    "    print(string.lower())"
   ]
  },
  {
   "cell_type": "code",
   "execution_count": 2,
   "metadata": {},
   "outputs": [
    {
     "name": "stdout",
     "output_type": "stream",
     "text": [
      "enter string: 2334\n",
      "NUMBER\n"
     ]
    }
   ],
   "source": [
    "# Task 2\n",
    "#string 2\n",
    "string=input('enter string: ')\n",
    "word=0\n",
    "number=0\n",
    "for i in string:\n",
    "    if 65<=ord(i)<=90 or 97<=ord(i)<=122:\n",
    "        word+=1\n",
    "    elif 48<=ord(i)<=57:\n",
    "        number+=1\n",
    "\n",
    "if word==0:\n",
    "    g='NUMBER'\n",
    "elif number==0:\n",
    "    g='WORD'\n",
    "else:\n",
    "    g='MIXED'\n",
    "print(g)\n"
   ]
  },
  {
   "cell_type": "code",
   "execution_count": 15,
   "metadata": {},
   "outputs": [
    {
     "name": "stdout",
     "output_type": "stream",
     "text": [
      "enter string: baNgladEsh\n",
      "glad\n"
     ]
    }
   ],
   "source": [
    "# Task 3\n",
    "#string 3\n",
    "string=input('enter string: ')\n",
    "upper=0\n",
    "empty=''\n",
    "for i in string:\n",
    "    if upper==2:\n",
    "        break\n",
    "    if upper==1:\n",
    "        empty+=i\n",
    "    if 65<=ord(i)<=90:\n",
    "        upper+=1\n",
    "if len(empty)==0:\n",
    "    print('BLANK')\n",
    "else:\n",
    "    print(empty[0:-1])"
   ]
  },
  {
   "cell_type": "code",
   "execution_count": 18,
   "metadata": {},
   "outputs": [
    {
     "name": "stdout",
     "output_type": "stream",
     "text": [
      "enter string: The book is not too good!\n",
      "The book is not excellent!\n"
     ]
    }
   ],
   "source": [
    "# Task 4\n",
    "#string 4\n",
    "\n",
    "x=input('enter string: ')\n",
    "y=''\n",
    "\n",
    "if 'too good' in x:\n",
    "    y=x.replace('too good','excellent')\n",
    "else:\n",
    "    y=x\n",
    "print(y)\n"
   ]
  },
  {
   "cell_type": "code",
   "execution_count": 5,
   "metadata": {},
   "outputs": [
    {
     "name": "stdout",
     "output_type": "stream",
     "text": [
      "enter string: harry\n",
      "enter string2: hermione\n",
      "hrrhr\n"
     ]
    }
   ],
   "source": [
    "#Task 5\n",
    "#string 5\n",
    "string1=input('enter string: ')\n",
    "string2=input('enter string2: ')\n",
    "string3=''\n",
    "common_string1=''\n",
    "common_string2=''\n",
    "final=''\n",
    "if string1<string2:\n",
    "    for i in string1:\n",
    "        if i in string2:\n",
    "            string3+=i\n",
    "elif string1>string2:\n",
    "    for j in string2:\n",
    "        if j in string1:\n",
    "            string3+=j\n",
    "\n",
    "for k in string1:\n",
    "    if k in string3:\n",
    "        common_string1+=k\n",
    "for h in string2:\n",
    "    if h in string3:\n",
    "        common_string2+=h\n",
    "final=common_string1+common_string2\n",
    "if len(final)!=0:\n",
    "    print(final)\n",
    "else:\n",
    "    print('Nothing in common')\n",
    "        \n",
    "            "
   ]
  },
  {
   "cell_type": "code",
   "execution_count": 2,
   "metadata": {},
   "outputs": [
    {
     "name": "stdout",
     "output_type": "stream",
     "text": [
      "enter string: 34\n",
      "Uppercase character missing,Lowercase character missing,Special character missing\n"
     ]
    }
   ],
   "source": [
    "#task 6\n",
    "#string 6\n",
    "\n",
    "x=input('enter string: ')\n",
    "upper=0\n",
    "lower=0\n",
    "digit=0\n",
    "special=0\n",
    "for i in x:\n",
    "    if 65<=ord(i)<=90:\n",
    "        upper+=1\n",
    "    elif 97<=ord(i)<=122:\n",
    "        lower+=1\n",
    "    elif 48<=ord(i)<=57:\n",
    "        digit+=1\n",
    "    elif i=='_' or i=='$' or i=='#' or i=='@':\n",
    "        special+=1\n",
    "if upper==0:\n",
    "    print('Uppercase character missing',end=',')\n",
    "if lower==0:\n",
    "    print('Lowercase character missing',end=',')\n",
    "if digit==0:\n",
    "    print('Digit missing',end=',')\n",
    "if special==0:\n",
    "    print('Special character missing',end=',')\n",
    "elif upper>=1 and lower>=1 and digit>=1 and special>=1:\n",
    "    print('ok',end=',')\n",
    "print('\\b')\n"
   ]
  },
  {
   "cell_type": "code",
   "execution_count": 30,
   "metadata": {},
   "outputs": [
    {
     "name": "stdout",
     "output_type": "stream",
     "text": [
      "10\n",
      "20\n",
      "20\n",
      "30\n",
      "50\n",
      "10\n",
      "90\n",
      "STOP\n",
      "10-2 times\n",
      "20-2 times\n",
      "30-1 times\n",
      "50-1 times\n",
      "90-1 times\n"
     ]
    }
   ],
   "source": [
    "#task 7\n",
    "#list 1\n",
    "\n",
    "list=[]\n",
    "dic={}\n",
    "while(True):\n",
    "    x=input()\n",
    "    if x=='STOP':\n",
    "        break\n",
    "    else:\n",
    "        list.append(x)\n",
    "for i in list:\n",
    "    if i in dic.keys():\n",
    "        dic[i]+=1\n",
    "    else:\n",
    "        dic[i]=1\n",
    "for s,w in dic.items():\n",
    "    print(str(s)+'-'+str(w)+' '+'times')\n",
    "    "
   ]
  },
  {
   "cell_type": "code",
   "execution_count": 44,
   "metadata": {},
   "outputs": [
    {
     "name": "stdout",
     "output_type": "stream",
     "text": [
      "enter n: 4\n",
      "enter number: 1 2 3\n",
      "enter number: 4 5 6\n",
      "enter number: 10 11 12\n",
      "enter number: 7 8 9\n",
      "33\n",
      "[10, 11, 12]\n"
     ]
    }
   ],
   "source": [
    "#TASK 8\n",
    "#list 2\n",
    "\n",
    "x=int(input('enter n: '))\n",
    "y=[]\n",
    "max_sum=0\n",
    "max_list=[]\n",
    "new=[]\n",
    "for i in range(0,x):\n",
    "    k=input('enter number: ').split()\n",
    "    y.append(k)\n",
    "for j in y:\n",
    "    sum=0\n",
    "    for h in j:\n",
    "        sum+=int(h)\n",
    "    if sum>max_sum:\n",
    "        max_sum=sum\n",
    "        max_list=j\n",
    "for g in max_list:\n",
    "    f=int(g)\n",
    "    new.append(f)\n",
    "print(max_sum)\n",
    "print(new)\n",
    "    "
   ]
  },
  {
   "cell_type": "code",
   "execution_count": 32,
   "metadata": {},
   "outputs": [
    {
     "name": "stdout",
     "output_type": "stream",
     "text": [
      "enter num: 2 3 6\n",
      "enter num2: 3 4 5\n",
      "[6, 8, 10, 9, 12, 15, 18, 24, 30]\n"
     ]
    }
   ],
   "source": [
    "#task 9\n",
    "#list 3\n",
    "\n",
    "x=input('enter num: ').split()\n",
    "y=input('enter num2: ').split()\n",
    "z=[]\n",
    "for i in x:\n",
    "    for j in y:\n",
    "        c=int(i)*int(j)\n",
    "        z.append(c)\n",
    "print(z)"
   ]
  },
  {
   "cell_type": "code",
   "execution_count": 45,
   "metadata": {},
   "outputs": [
    {
     "name": "stdout",
     "output_type": "stream",
     "text": [
      "1 4 2 3\n"
     ]
    },
    {
     "ename": "TypeError",
     "evalue": "int() argument must be a string, a bytes-like object or a number, not 'builtin_function_or_method'",
     "output_type": "error",
     "traceback": [
      "\u001b[1;31m---------------------------------------------------------------------------\u001b[0m",
      "\u001b[1;31mTypeError\u001b[0m                                 Traceback (most recent call last)",
      "\u001b[1;32m<ipython-input-45-fd631a602ccd>\u001b[0m in \u001b[0;36m<module>\u001b[1;34m\u001b[0m\n\u001b[0;32m     10\u001b[0m         \u001b[1;32mbreak\u001b[0m\u001b[1;33m\u001b[0m\u001b[1;33m\u001b[0m\u001b[0m\n\u001b[0;32m     11\u001b[0m     \u001b[1;32melse\u001b[0m\u001b[1;33m:\u001b[0m\u001b[1;33m\u001b[0m\u001b[1;33m\u001b[0m\u001b[0m\n\u001b[1;32m---> 12\u001b[1;33m         \u001b[0mx\u001b[0m\u001b[1;33m=\u001b[0m\u001b[0mint\u001b[0m\u001b[1;33m(\u001b[0m\u001b[0mx\u001b[0m\u001b[1;33m)\u001b[0m\u001b[1;33m\u001b[0m\u001b[1;33m\u001b[0m\u001b[0m\n\u001b[0m\u001b[0;32m     13\u001b[0m         \u001b[0mc\u001b[0m\u001b[1;33m.\u001b[0m\u001b[0mappend\u001b[0m\u001b[1;33m(\u001b[0m\u001b[0mx\u001b[0m\u001b[1;33m)\u001b[0m\u001b[1;33m\u001b[0m\u001b[1;33m\u001b[0m\u001b[0m\n\u001b[0;32m     14\u001b[0m \u001b[0ma\u001b[0m\u001b[1;33m=\u001b[0m\u001b[1;32mFalse\u001b[0m\u001b[1;33m\u001b[0m\u001b[1;33m\u001b[0m\u001b[0m\n",
      "\u001b[1;31mTypeError\u001b[0m: int() argument must be a string, a bytes-like object or a number, not 'builtin_function_or_method'"
     ]
    }
   ],
   "source": [
    "#list 4\n",
    "    num_list = []\n",
    "while True:\n",
    "    uin = input(\"Enter a collection of number separated by space(Type 'STOP' to quit):\")\n",
    "    if uin.upper() == \"STOP\":\n",
    "        break\n",
    "    uin = list(map(int,uin.split(\" \")))\n",
    "    num_list.append(uin)\n",
    "\n",
    "diff_list = []\n",
    "for num in num_list:\n",
    "    temp_list = []\n",
    "    for n in range(len(num)):\n",
    "        if not n == (len(num) - 1):\n",
    "            result = abs(num[n] - num[n + 1])\n",
    "        temp_list.append(result)\n",
    "    diff_list.append(temp_list)\n",
    "\n",
    "for num in diff_list:\n",
    "    temp_list = []\n",
    "    for n in range(1,len(num) + 1):\n",
    "        temp_list.append(n)\n",
    "        \n",
    "    for n in num:\n",
    "        if n not in temp_list:\n",
    "            print(\"Not UB Jumper\")\n",
    "            break\n",
    "    else:\n",
    "        print(\"UB Jumper\")\n",
    "    \n",
    "    "
   ]
  },
  {
   "cell_type": "code",
   "execution_count": 2,
   "metadata": {},
   "outputs": [
    {
     "name": "stdout",
     "output_type": "stream",
     "text": [
      "enter string: Bracu1234\n",
      "acruB1324\n"
     ]
    }
   ],
   "source": [
    "#task 11\n",
    "#list 5\n",
    "\n",
    "x=input('enter string: ')\n",
    "upper=''\n",
    "lower=''\n",
    "even=''\n",
    "odd=''\n",
    "final=''\n",
    "f=''\n",
    "for i in x:\n",
    "    if 65<=ord(i)<=90:\n",
    "        upper+=i\n",
    "    elif 97<=ord(i)<=122:\n",
    "        lower+=i\n",
    "    elif 48<=ord(i)<=57 and ord(i)%2==0:\n",
    "        even+=i\n",
    "    elif 48<=ord(i)<=57 and ord(i)%2==1:\n",
    "        odd+=i\n",
    "final=sorted(lower)+sorted(upper)+sorted(odd)+sorted(even)\n",
    "for h in final:\n",
    "    f+=h\n",
    "print(f)\n",
    "\n",
    "        "
   ]
  },
  {
   "cell_type": "code",
   "execution_count": 46,
   "metadata": {},
   "outputs": [
    {
     "name": "stdout",
     "output_type": "stream",
     "text": [
      "enter number: 5\n",
      "enter num: 2\n",
      "1\n",
      "0\n",
      "4\n",
      "5\n",
      "0\n",
      "0\n"
     ]
    }
   ],
   "source": [
    "#task 12\n",
    "#list 6\n",
    "\n",
    "n, k = map(int, input(\"Enter the number of students and total times of participation separated by space: \").split(\" \"))\n",
    "persons = list(map(int, input(\"Enter the number of times person participate in this separated by space: \").split(\" \")))\n",
    " \n",
    "count_people = 0\n",
    "total_limit = 5 - k\n",
    "\n",
    "for p in persons:\n",
    "    if p <= total_limit:\n",
    "        count_people += 1\n",
    "        \n",
    "total_team = count_people // 3 \n",
    "\n",
    "print(f\"Total teams {total_team}\")\n",
    "        "
   ]
  },
  {
   "cell_type": "code",
   "execution_count": 49,
   "metadata": {},
   "outputs": [
    {
     "name": "stdout",
     "output_type": "stream",
     "text": [
      "enter num1: 4\n",
      "enter string: a\n",
      "enter number: 100\n",
      "enter string: b\n",
      "enter number: 100\n",
      "enter string: c\n",
      "enter number: 200\n",
      "enter string: d\n",
      "enter number: 300\n",
      "enter num2: 4\n",
      "enter string1: a\n",
      "enter number1: 300\n",
      "enter string1: b\n",
      "enter number1: 200\n",
      "enter string1: d\n",
      "enter number1: 400\n",
      "enter string1: e\n",
      "enter number1: 200\n",
      "{'a': 400, 'b': 300, 'c': 200, 'd': 700, 'e': 200}\n",
      "values: (200, 300, 400, 700)\n"
     ]
    }
   ],
   "source": [
    "#task 13\n",
    "#dictionary 1\n",
    "\n",
    "x=int(input('enter num1: '))\n",
    "y={}\n",
    "for i in range(0,x):\n",
    "    k=input('enter string: ')\n",
    "    j=int(input('enter number: '))\n",
    "    y.update({k:j})\n",
    "z=int(input('enter num2: '))\n",
    "p={}\n",
    "for h in range(0,z):\n",
    "    d=input('enter string1: ')\n",
    "    e=int(input('enter number1: '))\n",
    "    p.update({d:e})\n",
    "dic={}\n",
    "dic.update(y)\n",
    "for t in p:\n",
    "    if t in dic:\n",
    "        dic[t]+=p[t]\n",
    "    else:\n",
    "        dic[t]=p[t]\n",
    "print(dic)\n",
    "w=sorted(dic.values())\n",
    "f=[]\n",
    "for q in w:\n",
    "    if q not in f:\n",
    "        f.append(q)\n",
    "print('values:',tuple(f))"
   ]
  },
  {
   "cell_type": "code",
   "execution_count": 50,
   "metadata": {},
   "outputs": [
    {
     "name": "stdout",
     "output_type": "stream",
     "text": [
      "10\n",
      "20\n",
      "20\n",
      "30\n",
      "10\n",
      "50\n",
      "90\n",
      "STOP\n",
      "10-2 times\n",
      "20-2 times\n",
      "30-1 times\n",
      "50-1 times\n",
      "90-1 times\n"
     ]
    }
   ],
   "source": [
    "#task 14\n",
    "#dictionary 2\n",
    "\n",
    "list=[]\n",
    "dic={}\n",
    "while(True):\n",
    "    x=input()\n",
    "    if x=='STOP':\n",
    "        break\n",
    "    else:\n",
    "        list.append(x)\n",
    "for i in list:\n",
    "    if i in dic.keys():\n",
    "        dic[i]+=1\n",
    "    else:\n",
    "        dic[i]=1\n",
    "for s,w in dic.items():\n",
    "    print(str(s)+'-'+str(w)+' '+'times')\n",
    "    "
   ]
  },
  {
   "cell_type": "code",
   "execution_count": 53,
   "metadata": {},
   "outputs": [
    {
     "name": "stdout",
     "output_type": "stream",
     "text": [
      "{'value1': ['key1', 'key3'], 'value2': ['key2']}\n"
     ]
    }
   ],
   "source": [
    "#TASK 15\n",
    "#dictionary 3\n",
    "\n",
    "x={'key1':'value1','key2':'value2','key3':'value1'}\n",
    "e={}\n",
    "for i in x:\n",
    "    a=x[i]\n",
    "    if a not in e.keys():\n",
    "        e[a]=[i]\n",
    "    else:\n",
    "        e[a].append(i)\n",
    "print(e)\n"
   ]
  },
  {
   "cell_type": "code",
   "execution_count": 51,
   "metadata": {},
   "outputs": [
    {
     "name": "stdout",
     "output_type": "stream",
     "text": [
      "enter string1: evil\n",
      "enter string2: live\n",
      "Those strings are anagrams\n"
     ]
    }
   ],
   "source": [
    "#task 16\n",
    "#dictionary 4\n",
    "\n",
    "x=input('enter string1: ')\n",
    "y=input('enter string2: ')\n",
    "\n",
    "count={}\n",
    "count1={}\n",
    "for i in x:\n",
    "    if i in count.keys():\n",
    "        count[i]+=1\n",
    "    else:\n",
    "        count[i]=1\n",
    "for j in y:\n",
    "    if j in count1.keys():\n",
    "        count1[j]+=1\n",
    "    else:\n",
    "        count1[j]=1\n",
    "if count==count1:\n",
    "    print('Those strings are anagrams')"
   ]
  },
  {
   "cell_type": "code",
   "execution_count": 55,
   "metadata": {},
   "outputs": [
    {
     "name": "stdout",
     "output_type": "stream",
     "text": [
      "enter string: Hello, World!\n",
      "4433555555666110966677755531111\n"
     ]
    }
   ],
   "source": [
    "#task 17\n",
    "#dictionary 5\n",
    "\n",
    "x=input('enter string: ').upper()\n",
    "y={1:'.,?!:',2:'ABC',3:'DEF',4:'GHI',5:'JKL',6:'MNO',7:'PQRS',8:'TUV',9:'WXYZ',0:'Space'}\n",
    "p=''\n",
    "for i in x:\n",
    "    for keys,values in y.items():\n",
    "        if i in values:\n",
    "            p+=str(keys)*(values.index(i)+1)\n",
    "        if i==' ':\n",
    "            i='Space'\n",
    "        if i==values:\n",
    "            p+=str(keys)*(values.index(i))\n",
    "print(p)\n"
   ]
  }
 ],
 "metadata": {
  "kernelspec": {
   "display_name": "Python 3",
   "language": "python",
   "name": "python3"
  },
  "language_info": {
   "codemirror_mode": {
    "name": "ipython",
    "version": 3
   },
   "file_extension": ".py",
   "mimetype": "text/x-python",
   "name": "python",
   "nbconvert_exporter": "python",
   "pygments_lexer": "ipython3",
   "version": "3.8.8"
  }
 },
 "nbformat": 4,
 "nbformat_minor": 4
}
