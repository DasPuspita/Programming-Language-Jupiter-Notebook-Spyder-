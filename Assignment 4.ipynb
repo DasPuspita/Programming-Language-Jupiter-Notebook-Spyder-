{
 "cells": [
  {
   "cell_type": "markdown",
   "metadata": {
    "colab_type": "text",
    "id": "U4PRkuyUtDRw"
   },
   "source": [
    "# CSE110 Assignment 4\n",
    "\n",
    "\n",
    "## Write the Python code of the following problems:\n",
    "**<font color='red'>[MUST MAINTAIN VARIABLE NAMING CONVENTIONS FOR ALL THE TASKS]</font>**\n"
   ]
  },
  {
   "cell_type": "markdown",
   "metadata": {
    "colab_type": "text",
    "id": "PD425BrvtDRy"
   },
   "source": [
    "## Part 1: Tuple"
   ]
  },
  {
   "cell_type": "markdown",
   "metadata": {
    "colab_type": "text",
    "id": "FNOorLYXtDRz"
   },
   "source": [
    "### Task 1\n",
    "\n",
    "Assume, you have been given a tuple.\n",
    "\n",
    "a_tuple = (\"The Institute\",\\\n",
    "        (\"Best Mystery & Thriller\", \"The Silent Patient\", 68821),\\\n",
    "        75717,\\\n",
    "        [1, 2, 3, 400, 5, 6, 7],\\\n",
    "        (\"Best Fiction\", \"The Testaments\", 98291)\\\n",
    ")\n",
    "\n",
    "Write **one line** of Python code to access and print the value 400.\n",
    "\n",
    "Output: 400\n",
    "\n"
   ]
  },
  {
   "cell_type": "code",
   "execution_count": 1,
   "metadata": {
    "colab": {},
    "colab_type": "code",
    "id": "NDKB1cIMtDR0"
   },
   "outputs": [
    {
     "name": "stdout",
     "output_type": "stream",
     "text": [
      "400\n"
     ]
    }
   ],
   "source": [
    "a_tuple=(\"The Institute\",(\"Best Mystery & Thriller\",\"The Silent Patient\",68821),75717,[1,2,3,400,5,6,7],(\"Best Fiction\",\"The Testaments\",98291))\n",
    "\n",
    "print(a_tuple[3][3])\n"
   ]
  },
  {
   "cell_type": "markdown",
   "metadata": {
    "colab_type": "text",
    "id": "BXlIw1svtDR-"
   },
   "source": [
    "### Task 2\n",
    "\n",
    "Assume, you have been given a tuple.\n",
    "\n",
    "a_tuple =  (10, 20, 24, 25, 26, 35, 70)\n",
    "\n",
    "Write a Python program that creates a **new tuple** excluding the first and last two elements of the given tuple and prints the new tuple. \n",
    "\n",
    "Output: (24, 25, 26)\n",
    "\n",
    "*Hint: You need to use tuple slicing.*\n"
   ]
  },
  {
   "cell_type": "code",
   "execution_count": 1,
   "metadata": {
    "colab": {},
    "colab_type": "code",
    "id": "FTJ-5AmNtDR_"
   },
   "outputs": [
    {
     "name": "stdout",
     "output_type": "stream",
     "text": [
      "(24, 25, 26)\n"
     ]
    }
   ],
   "source": [
    "a_tuple=(10,20,24,25,26,35,70)\n",
    "print(a_tuple[2:-2])\n"
   ]
  },
  {
   "cell_type": "markdown",
   "metadata": {
    "colab_type": "text",
    "id": "Z3GS2TE6tDSG"
   },
   "source": [
    "### Task 3\n",
    "\n",
    "Assume, you have been given a tuple. \n",
    "\n",
    "\n",
    "book_info = (\\\n",
    "    (\"Best Mystery & Thriller\",\"The Silent Patient\",68,821),\\\n",
    "    (\"Best Horror\",\"The Institute\",75,717),\\\n",
    "    (\"Best History & Biography\",\"The five\",31,783 ),\\\n",
    "    (\"Best Fiction\",\"The Testaments\",98,291)\\\n",
    ")\n",
    "\n",
    "Write a Python program that prints its size and all its elements.\n",
    "\n",
    "Output:\\\n",
    "Size of the tuple is: 4\\\n",
    "('Best Mystery & Thriller', 'The Silent Patient', 68, 821)\\\n",
    "('Best Horror', 'The Institute', 75, 717)\\\n",
    "('Best History & Biography', 'The five', 31, 783)\\\n",
    "('Best Fiction', 'The Testaments', 98, 291)\n"
   ]
  },
  {
   "cell_type": "code",
   "execution_count": 2,
   "metadata": {
    "colab": {},
    "colab_type": "code",
    "id": "RPFYcAjntDSG"
   },
   "outputs": [
    {
     "name": "stdout",
     "output_type": "stream",
     "text": [
      "('Best Mystery & Thriller', 'The Silent Patient', 68, 821)\n",
      "('Best Horror', 'The institute', 75, 717)\n",
      "('Best History & Biography', 'The five', 31, 783)\n",
      "('Best Fiction', 'The Testaments', 98, 291)\n",
      "Size of the tuple is: 4\n"
     ]
    }
   ],
   "source": [
    "book_info=(\n",
    "('Best Mystery & Thriller','The Silent Patient',68,821),\n",
    "('Best Horror','The institute',75,717),                         #PROBLM\n",
    "('Best History & Biography','The five',31,783),\n",
    "('Best Fiction','The Testaments',98,291)\n",
    ")\n",
    "for i in book_info:\n",
    "    print(i)\n",
    "print('Size of the tuple is:',len(book_info))\n"
   ]
  },
  {
   "cell_type": "markdown",
   "metadata": {
    "colab_type": "text",
    "id": "glKgAPlGtDSK"
   },
   "source": [
    "### Task 4\n",
    "\n",
    "Assume, you have been given a tuple. \n",
    "\n",
    "book_info = (\\\n",
    "    (\"Best Mystery & Thriller\",\"The Silent Patient\",68821),\\\n",
    "    (\"Best Horror\",\"The Institute\",75717),\\\n",
    "    (\"Best History & Biography\",\"The five\",31783 ),\\\n",
    "    (\"Best Fiction\",\"The Testaments\",98291)\\\n",
    ")\n",
    "\n",
    "Write a Python program that prints the information about the Good Reads Choice Awards from a tuple. Your program should print the award category, the book name, and its total votes needed for the win.\n",
    "\n",
    "**Output:**\\\n",
    "The Silent Patient won the 'Best Mystery & Thriller' category with 68821 votes\\\n",
    "The Institute won the 'Best Horror' category with 75717 votes\\\n",
    "The five won the 'Best History & Biography' category with 31783 votes\\\n",
    "The Testaments won the 'Best Fiction' category with 98291 votes\n",
    "\n",
    "*Hint: You need to handle the quotation marks as a part of the output.*\n",
    "**<font color='red'>[Must use Tuple unpacking for printing.]</font>**\n",
    "\n",
    "\n"
   ]
  },
  {
   "cell_type": "code",
   "execution_count": 21,
   "metadata": {
    "colab": {},
    "colab_type": "code",
    "id": "LgTKpSGatDSM"
   },
   "outputs": [
    {
     "name": "stdout",
     "output_type": "stream",
     "text": [
      "The Silent Patient won the 'Best Mystery & Thriller' category with 68821 votes\n",
      "The Institute won the 'Best Horror' category with 75717 votes\n",
      "The five won the 'Best History & Biography' category with 31783 votes\n",
      "The Testments won the 'Best Fiction' category with 98291 votes\n"
     ]
    }
   ],
   "source": [
    "book_info=(\n",
    "(\"Best Mystery & Thriller\",\"The Silent Patient\",68821),\n",
    "(\"Best Horror\",\"The Institute\",75717),\n",
    "(\"Best History & Biography\",\"The five\",31783),            #sumaia r pdf or for loop er documents amer\n",
    "(\"Best Fiction\",\"The Testments\",98291)\n",
    ")\n",
    "\n",
    "for r in range(len(book_info)):\n",
    "    print(str(book_info[r][len(book_info[r])-2])+\n",
    "    \" won the \"+\"'\"+str(book_info[r][len(book_info[r])-3])+\"'\"+\" category with \"+str(book_info[r][len(book_info[r])-1])+\" votes\")\n",
    "\n"
   ]
  },
  {
   "cell_type": "markdown",
   "metadata": {
    "colab_type": "text",
    "id": "hoElNRL6tDSR"
   },
   "source": [
    "### Task 5\n",
    "\n",
    "Assume, you have been given a tuple.\n",
    "\n",
    "a_tuple = ( [1, 2, 3], [4, 5, 6], [7, 8, 9], [10, 11, 12])\n",
    "\n",
    "Write a Python program that asks the user for input (can be any data type) and **replaces the last element of each of the inner lists with the user given value.**\n",
    "\n",
    "**Example 1:**\\\n",
    "Input: “abc”\\\n",
    "Output: ([1, 2, 'abc'], [4, 5, 'abc'], [7, 8, 'abc'], [10, 11, 'abc'])\n",
    "\n",
    "**Example 2:**\\\n",
    "Input: 1000\\\n",
    "Output: ([1, 2, 1000], [4, 5, 1000], [7, 8, 1000], [10, 11, 1000])\n",
    "\n"
   ]
  },
  {
   "cell_type": "code",
   "execution_count": 5,
   "metadata": {
    "colab": {},
    "colab_type": "code",
    "id": "mC-B1fpStDST"
   },
   "outputs": [
    {
     "name": "stdout",
     "output_type": "stream",
     "text": [
      "enter word: abc\n",
      "([1, 2, 'abc'], [4, 5, 'abc'], [7, 8, 'abc'], [10, 11, 'abc'])\n"
     ]
    }
   ],
   "source": [
    "x=input('enter word: ')\n",
    "a_tuple=([1,2,3],[4,5,6],[7,8,9],[10,11,12])\n",
    "\n",
    "for i in a_tuple:\n",
    "    i[-1]=x\n",
    "print(a_tuple)\n",
    "\n",
    "        "
   ]
  },
  {
   "cell_type": "markdown",
   "metadata": {
    "colab_type": "text",
    "id": "km0QurTJtDSX"
   },
   "source": [
    "## Part 2: Dictionary"
   ]
  },
  {
   "cell_type": "markdown",
   "metadata": {
    "colab_type": "text",
    "id": "QlIVub1VtDSY"
   },
   "source": [
    "### Task 6\n",
    "\n",
    "Suppose there is a dictionary of your shopping list.\n",
    "\n",
    "shopping_list = {'Chocolate': 'Hersheys', 'Cocoa  powder': 'Cadbury', 'Spread': 'Nutella'} \n",
    "\n",
    "Now write a python program to add a new key called 'Baking powder' and assign 'Foster clarks' as its value.\n",
    "\n",
    "**Output:**\\\n",
    "{'Chocolate': 'Hersheys', 'Cocoa  powder': 'Cadbury', 'Spread': 'Nutella', 'Baking powder': 'Foster clarks'}\n"
   ]
  },
  {
   "cell_type": "code",
   "execution_count": 3,
   "metadata": {
    "colab": {},
    "colab_type": "code",
    "id": "tCLaSZP-tDSZ"
   },
   "outputs": [
    {
     "name": "stdout",
     "output_type": "stream",
     "text": [
      "{'Chocolate': 'Hersheys', 'Cocoa Powder': 'Cadbury', 'Spread': 'Nutella', 'Banking powder': 'Foster clarks'}\n"
     ]
    }
   ],
   "source": [
    "shopping_list={'Chocolate':'Hersheys','Cocoa Powder':'Cadbury','Spread':'Nutella'}\n",
    "\n",
    "shopping_list['Banking powder']='Foster clarks'\n",
    "print(shopping_list)\n"
   ]
  },
  {
   "cell_type": "markdown",
   "metadata": {
    "colab_type": "text",
    "id": "kvV-HnCntDSc"
   },
   "source": [
    "### Task 7\n",
    "Suppose you are given the following two dictionaries.\\\n",
    "marks_boys = {'Harry':15, 'Draco':8, 'Nevil':19}\\\n",
    "marks_girls = {'Ginie':18, 'Luna': 14}\n",
    "\n",
    "Now create a new dictionary marks merging the two of the above dictionaries, **so that the original two dictionaries remain unchanged.**\n",
    "\n",
    "**Output:**\\\n",
    "{'Harry': 15, 'Draco': 8, 'Nevil': 19, 'Ginie': 18, 'Luna': 14}\n",
    "\n",
    "*Hint: You can use dictionary functions.*\n"
   ]
  },
  {
   "cell_type": "code",
   "execution_count": 13,
   "metadata": {
    "colab": {},
    "colab_type": "code",
    "id": "BGSyClBPtDSd"
   },
   "outputs": [
    {
     "name": "stdout",
     "output_type": "stream",
     "text": [
      "{'Harry': 15, 'Draco': 8, 'Nevil': 19, 'Ginie': 18, 'Luna': 14}\n"
     ]
    }
   ],
   "source": [
    "marks_boys={'Harry':15,'Draco':8,'Nevil':19}\n",
    "marks_girl={'Ginie':18,'Luna':14}                   \n",
    "\n",
    "marks_boys.update(marks_girl)\n",
    "print(marks_boys)"
   ]
  },
  {
   "cell_type": "markdown",
   "metadata": {
    "colab_type": "text",
    "id": "QRzP4HYStDSi"
   },
   "source": [
    "### Task 8\n",
    "Write a Python program to find the average of all the values in a dictionary. <font color='red'>[ You are not allowed to use len() and sum()]</font>\n",
    "\n",
    "**Input:**\\\n",
    "salary = {'Jon': 100, 'Dan':200, 'Rob':300}\n",
    "\n",
    "**Output:**\\\n",
    "Average is 200\n",
    "\n",
    "*Hint: You can use dictionary functions to get all the values of the dictionary, then run loop to calculate the sum and the total number of values in the dictionary.*\n"
   ]
  },
  {
   "cell_type": "code",
   "execution_count": 2,
   "metadata": {
    "colab": {},
    "colab_type": "code",
    "id": "VMRLnA53tDSk"
   },
   "outputs": [
    {
     "name": "stdout",
     "output_type": "stream",
     "text": [
      "Average is 200\n"
     ]
    }
   ],
   "source": [
    "salary={'Jon':100,'Dan':200,'Rob':300}\n",
    "total=0\n",
    "count=0\n",
    "for i,j in salary.items():\n",
    "    for j in salary.values():\n",
    "        total+=j\n",
    "        count+=1\n",
    "print('Average is',total//count)\n",
    "    "
   ]
  },
  {
   "cell_type": "markdown",
   "metadata": {
    "colab_type": "text",
    "id": "5NS_moXQtDSo"
   },
   "source": [
    "### Task 9\n",
    "Write a Python program that discards **duplicate elements** from the following dictionary. \n",
    "\n",
    "bank = {'customer1':101, 'customer2':102, 'customer3':101, 'customer4':103, 'customer5':102}\n",
    "\n",
    "**Output:**\\\n",
    "{'customer1': 101, 'customer2': 102, 'customer4': 103}\n",
    "\n",
    "*Hint: Think of membership operators (in and not in). You can use dictionary functions to get the values.*\n"
   ]
  },
  {
   "cell_type": "code",
   "execution_count": 4,
   "metadata": {
    "colab": {},
    "colab_type": "code",
    "id": "LUKwue_ctDSo"
   },
   "outputs": [
    {
     "name": "stdout",
     "output_type": "stream",
     "text": [
      "{'customer1': 101, 'customer2': 102, 'customer4': 103}\n"
     ]
    }
   ],
   "source": [
    "bank={'customer1':101,'customer2':102,'customer3':101,'customer4':103,'customer5':102}\n",
    "bank1={}\n",
    "for key,value in bank.items():\n",
    "    if value not in bank1.values():         \n",
    "        bank1[key]=value\n",
    "print(bank1)\n",
    "        "
   ]
  },
  {
   "cell_type": "markdown",
   "metadata": {
    "colab_type": "text",
    "id": "IsqFQpqKtDSs"
   },
   "source": [
    "### Task 10\n",
    "Write a Python program that finds the largest value with its key from the following dictionary. <font color='red'>[without using max() function]</font> \n",
    "\n",
    "book_shop = {'sci fi': 12, 'mystery': 15, 'horror': 8, 'mythology': 10, 'young_adult': 4, 'adventure':14}\n",
    "\n",
    "**Output:**\\\n",
    "The highest selling book genre is mystery and the number of books sold are 15\n",
    "\n",
    "*Hint: Think of membership operators (in and not in). You can use dictionary functions to get the values.*\n"
   ]
  },
  {
   "cell_type": "code",
   "execution_count": 3,
   "metadata": {
    "colab": {},
    "colab_type": "code",
    "id": "v9Kosgs4tDSt"
   },
   "outputs": [
    {
     "name": "stdout",
     "output_type": "stream",
     "text": [
      "the largest selling book genre is mystery and the number of books sold are 15\n"
     ]
    }
   ],
   "source": [
    "book_shop = {'sci fi': 12, 'mystery': 15, 'horror': 8, 'mythology': 10, 'young_adult': 4, 'adventure':14}\n",
    "\n",
    "largest=-99\n",
    "g=''\n",
    "for key,value in book_shop.items():            \n",
    "        if(largest<value):\n",
    "            largest=value\n",
    "            g=key\n",
    "print('the largest selling book genre is',g,'and the number of books sold are',largest) "
   ]
  },
  {
   "cell_type": "markdown",
   "metadata": {
    "colab_type": "text",
    "id": "qozufw7itDSy"
   },
   "source": [
    "### Task 11\n",
    "Write a Python program that combines two dictionary adding values for common keys. \n",
    "**Input:**\\\n",
    "dict1 = {'a': 10, 'b':20, 'c':30}\\\n",
    "dict2 = {'a': 10, 'c':20, 'd':30, 'e':40}\n",
    "\n",
    "**Output:**\\\n",
    "{'a': 20, 'b': 20, 'c': 50, 'd': 30, 'e': 40}\n",
    "\n",
    "\n",
    "*Hint: Think of membership operators (in and not in). You can use dictionary functions to get the values. Need to create a new dictionary to store the combined items.* \n"
   ]
  },
  {
   "cell_type": "code",
   "execution_count": 1,
   "metadata": {
    "colab": {},
    "colab_type": "code",
    "id": "S0EIYODZtDSz"
   },
   "outputs": [
    {
     "name": "stdout",
     "output_type": "stream",
     "text": [
      "{'a': 20, 'b': 20, 'c': 50, 'd': 30, 'e': 40}\n"
     ]
    }
   ],
   "source": [
    "dict1={'a':10,'b':20,'c':30}\n",
    "dict2={'a':10,'c':20,'d':30,'e':40}\n",
    "dict3={}\n",
    "dict3.update(dict1)\n",
    "for i in dict2: \n",
    "    if i in dict3:\n",
    "        dict3[i]=dict3[i]+dict2[i]\n",
    "    else:\n",
    "        dict3[i]=dict2[i]\n",
    "        \n",
    "print(dict3)"
   ]
  },
  {
   "cell_type": "markdown",
   "metadata": {
    "colab_type": "text",
    "id": "hAqjgwGNtDS2"
   },
   "source": [
    "### Task 12\n",
    "Write a Python program that takes a string as an input from the user and counts the frequency of each character using the dictionary. For solving this problem, you need to use each character as a key and its frequency as values. <font color='red'>[without using count() function]</font> \n",
    "\n",
    "\n",
    "**Input:**\\\n",
    "\"Python programming is fun\"\n",
    "\n",
    "**Output:**\\\n",
    "{'p': 2, 'y': 1, 't': 1, 'h': 1, 'o': 2, 'n': 3, 'r': 2, 'g': 2, 'a': 1, 'm': 2, 'i': 2, 's': 1, 'f': 1, 'u': 1}\n",
    "\n",
    "*Hint: Need to create a new dictionary to store the frequency. Case is ignored (P and p are considered same).*\n",
    "\n"
   ]
  },
  {
   "cell_type": "code",
   "execution_count": 11,
   "metadata": {
    "colab": {},
    "colab_type": "code",
    "id": "-m2yPIT7tDS3"
   },
   "outputs": [
    {
     "name": "stdout",
     "output_type": "stream",
     "text": [
      "enter string: python is fun\n",
      "{'p': 1, 'y': 1, 't': 1, 'h': 1, 'o': 1, 'n': 2, 'i': 1, 's': 1, 'f': 1, 'u': 1}\n"
     ]
    }
   ],
   "source": [
    "x=input('enter string: ')\n",
    "y={}\n",
    "for i in x:\n",
    "    if i!=' ':\n",
    "        if i in y.keys():\n",
    "            y[i]=y[i]+1\n",
    "        else:\n",
    "            y[i]=1\n",
    "print(y)"
   ]
  },
  {
   "cell_type": "markdown",
   "metadata": {
    "colab_type": "text",
    "id": "QWf1zsBctDS6"
   },
   "source": [
    "### Task 13\n",
    "Suppose you are given the following dictionary where its values are lists. \n",
    "\n",
    "\n",
    "dict = {'A': [1,2,3], 'b': ['1', '2'], \"c\": [4, 5, 6, 7]}\n",
    "\n",
    "Write a Python program that counts the total number of items in the dictionary’s values and prints it. <font color='red'>[without using sum() , len(), count() function]</font> \n",
    "\n",
    "**Output:**\\\n",
    "9\n",
    "\n"
   ]
  },
  {
   "cell_type": "code",
   "execution_count": 8,
   "metadata": {
    "colab": {},
    "colab_type": "code",
    "id": "atnD3A1utDS6"
   },
   "outputs": [
    {
     "name": "stdout",
     "output_type": "stream",
     "text": [
      "9\n"
     ]
    }
   ],
   "source": [
    "dict = {'A': [1,2,3], 'b': ['1', '2'], \"c\": [4, 5, 6, 7]} \n",
    "count=0\n",
    "for i,j in dict.items():\n",
    "    for j in dict.values():\n",
    "        count+=1\n",
    "print(count)\n",
    "\n"
   ]
  },
  {
   "cell_type": "markdown",
   "metadata": {
    "colab_type": "text",
    "id": "rCCFcYmPtDS-"
   },
   "source": [
    "### Task 14\n",
    "\n",
    "Write a Python program that takes a number (N) from the user and creates a dictionary with all the numbers starting from 1 to N (including) as keys and its cubes as values. Lastly, prints the dictionary.\n",
    "\n",
    "**Example1:** \n",
    "\n",
    "Input: 5\\\n",
    "Output: {1: 1, 2: 8, 3: 27, 4: 64, 5: 125}\n",
    "\n",
    "**Example2:** \n",
    "\n",
    "Input: 3\\\n",
    "Output: {1: 1, 2: 8, 3: 27}\n"
   ]
  },
  {
   "cell_type": "code",
   "execution_count": 9,
   "metadata": {
    "colab": {},
    "colab_type": "code",
    "id": "1l3nIxHltDS-"
   },
   "outputs": [
    {
     "name": "stdout",
     "output_type": "stream",
     "text": [
      "enter number: 5\n",
      "{1: 1, 2: 8, 3: 27, 4: 64, 5: 125}\n"
     ]
    }
   ],
   "source": [
    "x=int(input('enter number: '))\n",
    "y={}\n",
    "\n",
    "for h in range(1,x+1):\n",
    "    y[h]=h**3\n",
    "print(y)"
   ]
  },
  {
   "cell_type": "markdown",
   "metadata": {
    "colab_type": "text",
    "id": "-imuPb3EtDTD"
   },
   "source": [
    "### Task 15\n",
    "\n",
    "Suppose you have been given the following list of tuples. \n",
    "\n",
    "list = [(\"a\", 1), (\"b\", 2), (\"a\", 3), (\"b\", 1), (\"a\", 2), (\"c\", 1)]\n",
    "\n",
    "Write a Python program that converts this list of tuples into a dictionary and prints the dictionary. <font color='red'>[You are not allowed to use set]</font> \n",
    "\n",
    "**Output:**\n",
    "\n",
    "{'a': [1, 3, 2], 'b': [2, 1], 'c': [1]}\n",
    "\n",
    "*Hint: Think of membership operators (in and not in).*  \n"
   ]
  },
  {
   "cell_type": "code",
   "execution_count": 8,
   "metadata": {
    "colab": {},
    "colab_type": "code",
    "id": "bBBcHpgYtDTE"
   },
   "outputs": [
    {
     "name": "stdout",
     "output_type": "stream",
     "text": [
      "{'a': [1, 3, 2], 'b': [2, 1], 'c': [1]}\n"
     ]
    }
   ],
   "source": [
    "list=[(\"a\",1),(\"b\",2),(\"a\",3),(\"b\",1),(\"a\",2),(\"c\",1)]\n",
    "p={}\n",
    "for i in list:\n",
    "    j,k=i\n",
    "    if j not in p.keys():\n",
    "        list1=[]\n",
    "        list1.append(k)\n",
    "        p.update({j:list1})\n",
    "    else:\n",
    "        p[j].append(k)\n",
    "print(p)\n",
    "    "
   ]
  }
 ],
 "metadata": {
  "colab": {
   "collapsed_sections": [],
   "name": "CSE110 Assignment04.ipynb",
   "provenance": []
  },
  "kernelspec": {
   "display_name": "Python 3",
   "language": "python",
   "name": "python3"
  },
  "language_info": {
   "codemirror_mode": {
    "name": "ipython",
    "version": 3
   },
   "file_extension": ".py",
   "mimetype": "text/x-python",
   "name": "python",
   "nbconvert_exporter": "python",
   "pygments_lexer": "ipython3",
   "version": "3.8.8"
  }
 },
 "nbformat": 4,
 "nbformat_minor": 1
}
