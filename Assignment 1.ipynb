{
 "cells": [
  {
   "cell_type": "markdown",
   "metadata": {},
   "source": [
    "### Task 1\n",
    "\n",
    "Write Python code of a program that reads two numbers from the user, and prints their sum, product, and difference.\n",
    "\n",
    "\n",
    "*hint: Subtract the second number from the first one*\n",
    "\n",
    "For your explanation, the first question's code is done below. Try relating the block of code with the lesson you have learned and understand the significance of each line. You're most welcome to play around with the code. This will strengthen your understanding.\n"
   ]
  },
  {
   "cell_type": "code",
   "execution_count": 4,
   "metadata": {},
   "outputs": [
    {
     "name": "stdout",
     "output_type": "stream",
     "text": [
      "Please Enter Your First Number3\n",
      "Please Enter Your Second Number4\n",
      "<class 'str'>\n",
      "<class 'str'>\n",
      "Sum is 7\n",
      "Product is 12\n",
      "Difference is 1\n"
     ]
    }
   ],
   "source": [
    "### Take input of 2 numbers from the user\n",
    "var_1 = input('Please Enter Your First Number')\n",
    "var_2 = input('Please Enter Your Second Number')\n",
    "\n",
    "#Since input() function converts everything to String,\n",
    "#for performing any kind of mathematical operation you need to convert them to int.\n",
    "#For this conversion, we need to use int() function\n",
    "\n",
    "\n",
    "# First, let's clarify whether the inputs are actually Strings or not. \n",
    "print(type(var_1))\n",
    "print(type(var_2))\n",
    "\n",
    "\n",
    "# Convert Strings to integer using the int() function\n",
    "var_3 = int(var_1)\n",
    "var_4 = int(var_2)\n",
    "\n",
    "# Perform Addition\n",
    "sum = var_3 + var_4\n",
    "\n",
    "# Perform Multiplication \n",
    "product = var_3 * var_4\n",
    "\n",
    "# Perform Substraction \n",
    "difference = var_4 - var_3\n",
    "\n",
    "# Print all the calculated results\n",
    "print(\"Sum is\", sum)\n",
    "print(\"Product is\", product)\n",
    "print(\"Difference is\", difference)\n"
   ]
  },
  {
   "cell_type": "markdown",
   "metadata": {},
   "source": [
    "### Task 2\n",
    "\n",
    "Write Python code of a program that reads the radius of a circle and prints its circumference and area.\n",
    "\n",
    "*hint: import math and then use math.pi for getting the value of pi. \n",
    "For details read from https://docs.python.org/3/library/math.html*\n",
    "\n",
    "**Example:**\\\n",
    "Input: 4\\\n",
    "Output:\\\n",
    "Area is 50.26548245743669\\\n",
    "Circumference is 25.132741228718345\n",
    "\n",
    "Input: 3.5\\\n",
    "Output:\\\n",
    "Area is 38.48451000647496\\\n",
    "Circumference is 21.991148575128552\n"
   ]
  },
  {
   "cell_type": "code",
   "execution_count": 2,
   "metadata": {},
   "outputs": [
    {
     "name": "stdout",
     "output_type": "stream",
     "text": [
      "Enter radius: 4\n",
      "area of the circle is:  50.26548245743669\n",
      "circumference of the circle is:  25.132741228718345\n"
     ]
    }
   ],
   "source": [
    "import math\n",
    "r=float(input('Enter radius: '))\n",
    "\n",
    "area=math.pi*(r**2)\n",
    "circumference=2*math.pi*r\n",
    "\n",
    "print('area of the circle is: ',area)\n",
    "print('circumference of the circle is: ',circumference)\n",
    "\n"
   ]
  },
  {
   "cell_type": "markdown",
   "metadata": {},
   "source": [
    "### Task 3\n",
    "\n",
    "Write Python code of a program that reads two numbers from the user. Your program should then print “First is greater” if the first number is greater, “Second is greater” if the second number is greater, and “The numbers are equal” otherwise."
   ]
  },
  {
   "cell_type": "code",
   "execution_count": 1,
   "metadata": {},
   "outputs": [
    {
     "name": "stdout",
     "output_type": "stream",
     "text": [
      "Enter your first number10\n",
      "Enter your second number9\n",
      "First is greater\n"
     ]
    }
   ],
   "source": [
    "x=int(input('Enter your first number'))\n",
    "y=int(input('Enter your second number'))\n",
    "if(x>y):\n",
    "    print('First is greater')\n",
    "elif(x<y):\n",
    "    print('Second is greater')\n",
    "else:\n",
    "    print('The numbers are equal')"
   ]
  },
  {
   "cell_type": "markdown",
   "metadata": {},
   "source": [
    "### Task 4\n",
    "\n",
    "Write Python code of a program that reads two numbers, subtracts the smaller number from the larger one, and prints the result.\n",
    "\n",
    "*hint: First check which number is greater*\n"
   ]
  },
  {
   "cell_type": "code",
   "execution_count": 2,
   "metadata": {},
   "outputs": [
    {
     "name": "stdout",
     "output_type": "stream",
     "text": [
      "Enter your first number3\n",
      "Enter your second number5\n",
      "2\n"
     ]
    }
   ],
   "source": [
    "x=int(input('Enter your first number'))\n",
    "y=int(input('Enter your second number'))\n",
    "if(x>y):\n",
    "    print(x-y)\n",
    "elif(x<y):\n",
    "    print(y-x)\n",
    "else:\n",
    "    print(0)"
   ]
  },
  {
   "cell_type": "markdown",
   "metadata": {},
   "source": [
    "### Task 5\n",
    "\n",
    "Write Python code of a program that reads a number, and prints “The number is even” or “The number is odd”, depending on whether the number is even or odd. \n",
    "\n",
    "*hint: use the modulus (%) operator*\n"
   ]
  },
  {
   "cell_type": "code",
   "execution_count": 1,
   "metadata": {},
   "outputs": [
    {
     "name": "stdout",
     "output_type": "stream",
     "text": [
      "Enter your number5\n",
      "odd number\n"
     ]
    }
   ],
   "source": [
    "a=int(input('Enter your number'))\n",
    "if(a%2==0):\n",
    "    print('even number')\n",
    "else:\n",
    "    print('odd number')"
   ]
  },
  {
   "cell_type": "markdown",
   "metadata": {},
   "source": [
    "### Task 6\n",
    "\n",
    "Write Python code of a program that reads an integer, and prints the integer if it is a multiple of **either 2 or 5.**\n",
    "\n",
    "For example, 2, 4, 5, 6, 8, 10, 12, 14, 15, 16, 18, 20, 22 …\n",
    "\n"
   ]
  },
  {
   "cell_type": "code",
   "execution_count": 1,
   "metadata": {},
   "outputs": [
    {
     "name": "stdout",
     "output_type": "stream",
     "text": [
      "Enter your number: 8\n",
      "8\n"
     ]
    }
   ],
   "source": [
    "x=int(input('Enter your number: '))\n",
    "if(x%2==0 or x%5==0):\n",
    "    print(x)"
   ]
  },
  {
   "cell_type": "markdown",
   "metadata": {},
   "source": [
    "### Task 7\n",
    "Write Python code of a program that reads an integer, and prints the integer  it is a multiple of **either 2 or 5 but not both.** \n",
    "\n",
    "For example, 2, 4, 5, 6, 8, 12, 14, 15, 16, 18, 22 …\n"
   ]
  },
  {
   "cell_type": "code",
   "execution_count": 1,
   "metadata": {},
   "outputs": [
    {
     "name": "stdout",
     "output_type": "stream",
     "text": [
      "Enter your number: 15\n",
      "15\n"
     ]
    }
   ],
   "source": [
    "x=int(input('Enter your number: '))\n",
    "\n",
    "if(x%2==0 and x%5==0):\n",
    "    print('Error')\n",
    "elif(x%2==0 or x%5==0):\n",
    "    print(x)"
   ]
  },
  {
   "cell_type": "markdown",
   "metadata": {},
   "source": [
    "### Task 8\n",
    "Write Python code of a program that reads an integer, and prints the integer if it is a multiple of **2 and 5.**\n",
    "\n",
    "For example, 10, 20, 30, 40, 50 …\n",
    "\n"
   ]
  },
  {
   "cell_type": "code",
   "execution_count": 2,
   "metadata": {},
   "outputs": [
    {
     "name": "stdout",
     "output_type": "stream",
     "text": [
      "Enter your number: 10\n",
      "10\n"
     ]
    }
   ],
   "source": [
    "a=int(input('Enter your number: '))\n",
    "if(a%2==0 and a%5==0):\n",
    "    print(a)"
   ]
  },
  {
   "cell_type": "markdown",
   "metadata": {},
   "source": [
    "### Task 9\n",
    "\n",
    "\n",
    "Write Python code of a program that reads an integer, and prints the integer if it is a multiple of **NEITHER 2 NOR 5.** \n",
    "\n",
    "For example, 1, 3, 7, 9, 11, 13, 17, 19, 21, 23, 27, 29, 31, 33, 37, 39 …\n"
   ]
  },
  {
   "cell_type": "code",
   "execution_count": 3,
   "metadata": {},
   "outputs": [
    {
     "name": "stdout",
     "output_type": "stream",
     "text": [
      "Enter your number: 7\n",
      "7\n"
     ]
    }
   ],
   "source": [
    "x=int(input('Enter your number: '))\n",
    "\n",
    "if(not(x%2==0 or x%5==0)):           #nu=int(input('enter nu: '))\n",
    "     print(x)                                #if nu%2!=0 and nu%5!=0:\n",
    "                                                 #print(nu)    \n",
    "else:\n",
    "    print('Error')"
   ]
  },
  {
   "cell_type": "markdown",
   "metadata": {},
   "source": [
    "### Task 10\n",
    "\n",
    "Write Python code of a program that reads an integer, and prints the integer if it is **NOT a multiple of 2** OR **NOT a multiple of 5.**\n",
    "\n",
    "For example, 1, 2, 3, 4, 5, 6, 7, 8, 9, 11, 12, 13, 14, 15, 16, 17, 18, 19, 21, 22\n"
   ]
  },
  {
   "cell_type": "code",
   "execution_count": 1,
   "metadata": {},
   "outputs": [
    {
     "name": "stdout",
     "output_type": "stream",
     "text": [
      "Enter your number: 1\n",
      "1\n"
     ]
    }
   ],
   "source": [
    "a=int(input('Enter your number: '))\n",
    "\n",
    "if(not(a%2==0 and a%5==0)):          #nu=int(input('enter nu: ')) \n",
    "                                       #if nu%2!=0 or nu%5!=0:\n",
    "                                                 #print(nu)    \n",
    "    print(a)"
   ]
  },
  {
   "cell_type": "markdown",
   "metadata": {},
   "source": [
    "### Task 11\n",
    "\n",
    "Write Python code of a program that reads a student’s mark for a single subject, and prints out the corresponding grade for that mark. The mark ranges and corresponding grades are shown in the table below.\n",
    "\n",
    "*hint: This problem can be solved in two ways: top-down (starts from A) and bottom-up (starts from F)*\n",
    "\n",
    "\n",
    "| Marks | Grage|\n",
    "| --- | --- | \n",
    "|90 or above| A |\n",
    "|  |  | \n",
    "|80-89| B |\n",
    "|  |  | \n",
    "|70-79| C |\n",
    "|  |  | \n",
    "|60-69| D |\n",
    "|  |  | \n",
    "|50-59| E |\n",
    "|  |  | \n",
    "|Below 50| F |\n",
    "\n",
    "\n",
    "\n",
    "\n",
    "\n"
   ]
  },
  {
   "cell_type": "code",
   "execution_count": 3,
   "metadata": {},
   "outputs": [
    {
     "name": "stdout",
     "output_type": "stream",
     "text": [
      "Enter subject mark 85\n",
      "B\n"
     ]
    }
   ],
   "source": [
    "number=int(input('Enter subject mark'))\n",
    "if(90<= number <=100):\n",
    "    print('A')\n",
    "elif(80<= number <=89):\n",
    "    print('B')\n",
    "elif(70<= number <=79):\n",
    "    print('c')\n",
    "elif(60<= number <=69):\n",
    "    print('D')\n",
    "elif(50<= number <=59):\n",
    "    print('E')\n",
    "elif(0<= number <=49):\n",
    "    print('F')\n",
    "else:\n",
    "    print('Error')"
   ]
  },
  {
   "cell_type": "markdown",
   "metadata": {},
   "source": [
    "### Task 12\n",
    "\n",
    "Write Python code of a program to compute and display a person’s weekly salary as determined by the following conditions:\n",
    "If the hours worked are less than or equal to 40, the person receives Tk200.00 per hour, else the person receives Tk8000.00 plus Tk300.00 for each hour worked over 40 hours.\n",
    "The program should request the hours worked as input and should display the salary as output.\n",
    "\n",
    "**example1:**\\\n",
    "Input: 100\\\n",
    "Output: 26000\n",
    "\n",
    "**example2:**\\\n",
    "Input: 30\\\n",
    "Output: 6000\n"
   ]
  },
  {
   "cell_type": "code",
   "execution_count": 4,
   "metadata": {},
   "outputs": [
    {
     "name": "stdout",
     "output_type": "stream",
     "text": [
      "Enter working hour: 100\n",
      "salary is 830000.0\n"
     ]
    }
   ],
   "source": [
    "hour=int(input('Enter working hour: '))\n",
    "\n",
    "amount1=hour*200.0\n",
    "amount2=hour*(8000.0+300.0)\n",
    "\n",
    "if(1<= hour <=40):\n",
    "    print('salary is',amount1)\n",
    "elif(hour>=41):\n",
    "    print('salary is',amount2)\n",
    "else:\n",
    "    print('amount zero')\n",
    "               \n"
   ]
  },
  {
   "cell_type": "markdown",
   "metadata": {},
   "source": [
    "### Task 13\n",
    "Write Python code of a program that finds the number of hours, minutes, and seconds in a **given number of seconds.** \n",
    "\n",
    "**Example:**\\\n",
    "Input: 10000 seconds\\\n",
    "Output: 2 Hours 46 minutes, 40 seconds\n",
    "\n",
    "*hints: 1 hour = 60 mins = 3600 seconds*\\\n",
    "*1min = 60 seconds* \n",
    "\n",
    "\n",
    "\n",
    "\n"
   ]
  },
  {
   "cell_type": "code",
   "execution_count": 1,
   "metadata": {},
   "outputs": [
    {
     "name": "stdout",
     "output_type": "stream",
     "text": [
      "Enter number in seconds:356970\n",
      "99.15833333333333 hours\n",
      "9 minutes\n",
      "30 seconds\n"
     ]
    }
   ],
   "source": [
    "second=int(input('Enter number in seconds:'))\n",
    "\n",
    "hour=second/3600\n",
    "remaining=second%3600\n",
    "minute=remaining//60\n",
    "second=remaining%60\n",
    "print(hour,'hours')\n",
    "print(minute,'minutes')\n",
    "print(second,'seconds')"
   ]
  },
  {
   "cell_type": "markdown",
   "metadata": {},
   "source": [
    "### Task 14\n",
    "Suppose the following expressions are used to calculate the values of L for different values of S:\n",
    "\n",
    "$L =  3000-125S^2$ \n",
    "if     $S<100$\n",
    "\n",
    "$ L =  \\frac{12000}{4+S^2/14900}$\n",
    "if     $S\\geq100$\n",
    "\n",
    "Write a Python code of a program that reads a value of S and then calculates the value of L.\n",
    "\n",
    "For example:\\\n",
    "If S=3, L= 1875.\\\n",
    "If S=120, L= 2416.2162162162163\n",
    "\n",
    "\n",
    "*hints: You can import math and use math function for making squares math.pow(number, power)   Or you can simply write S**2.*"
   ]
  },
  {
   "cell_type": "code",
   "execution_count": 4,
   "metadata": {
    "scrolled": true
   },
   "outputs": [
    {
     "name": "stdout",
     "output_type": "stream",
     "text": [
      "Enter the value of S: 12\n",
      "L= -15000\n"
     ]
    }
   ],
   "source": [
    "S=int(input('Enter the value of S: '))\n",
    "if(S<100):\n",
    "    L=3000-(125*S**2)\n",
    "    print('L=',L)\n",
    "elif(S>=100):\n",
    "    L=12000/(4+S**2/14900)\n",
    "    print('L=',L)"
   ]
  },
  {
   "cell_type": "markdown",
   "metadata": {},
   "source": [
    "### Task 15\n",
    "\n",
    "Take an hour from the user as input and tell it is time for which meal.\n",
    "\n",
    "•\tThe user will input the number in a 24-hour format. So, 14 means 2 pm, 3 means 3 am, 18 means 6 pm, etc.\\\n",
    "•\tValid inputs are 0 to 23. Inputs less than 0 or more than 23 are invalid in 24-hour clock.\\\n",
    "•\tAssume, Input will be whole numbers. For example, 3.5 will NOT be given as input.\n",
    "\n",
    "Inputs: Message to be printed\\\n",
    "4 to 6: Breakfast\\\n",
    "12 to 13: Lunch\\\n",
    "16 to 17: Snacks\\\n",
    "19 to 20: Dinner\\\n",
    "For all other valid inputs, say \"Patience is a virtue\"\\\n",
    "For all other invalid inputs, say \"Wrong time\"\n",
    "\n",
    "For example,\\\n",
    "If the user enters 4, your program should print the message \"Breakfast\".\\\n",
    "If the user enters 5, your program should print the message \"Breakfast\".\\\n",
    "If the user enters 6, your program should print the message \"Breakfast\".\\\n",
    "If the user enters 0, your program should print the message \"Patience is a virtue\".\\\n",
    "If the user enters 1, your program should print the message \"Patience is a virtue\".\\\n",
    "If the user enters 18, your program should print the message \"Patience is a virtue\".\\\n",
    "If the user enters 23, your program should print the message \"Patience is a virtue\".\\\n",
    "If the user enters 24, your program should print the message \"Wrong Time\".\\\n",
    "If the user enters -1, your program should print the message \"Wrong Time\".\\\n",
    "If the user enters 27, your program should print the message \"Wrong time\".\n",
    "\n",
    "Hints:\\\n",
    "You can use nested conditionals (if-else) or chained conditions (if-elif-else) to solve this problem.\n",
    "\n"
   ]
  },
  {
   "cell_type": "code",
   "execution_count": 1,
   "metadata": {},
   "outputs": [
    {
     "name": "stdout",
     "output_type": "stream",
     "text": [
      "Enter meal time: 12\n",
      "Lunch\n"
     ]
    }
   ],
   "source": [
    "a=int(input('Enter meal time: '))\n",
    "\n",
    "if(a==4 or a==5 or a==6):\n",
    "    print('Breakfast')\n",
    "elif(a==12 or a==13):\n",
    "    print('Lunch')\n",
    "elif(a==16 or a==17):\n",
    "    print('Snacks')\n",
    "elif(a==19 or a==20 or a==21):\n",
    "    print('Dinner')\n",
    "elif(a<0 and a>23):\n",
    "    print(\"Patience is a virtue\")\n",
    "else:\n",
    "    print(\"Wrong time\")"
   ]
  }
 ],
 "metadata": {
  "kernelspec": {
   "display_name": "Python 3",
   "language": "python",
   "name": "python3"
  },
  "language_info": {
   "codemirror_mode": {
    "name": "ipython",
    "version": 3
   },
   "file_extension": ".py",
   "mimetype": "text/x-python",
   "name": "python",
   "nbconvert_exporter": "python",
   "pygments_lexer": "ipython3",
   "version": "3.8.8"
  }
 },
 "nbformat": 4,
 "nbformat_minor": 4
}
