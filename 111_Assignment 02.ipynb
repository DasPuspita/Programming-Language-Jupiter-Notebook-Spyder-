{
 "cells": [
  {
   "cell_type": "code",
   "execution_count": 2,
   "metadata": {},
   "outputs": [
    {
     "name": "stdout",
     "output_type": "stream",
     "text": [
      "0\n"
     ]
    }
   ],
   "source": [
    "# task 1\n",
    "\n",
    "def function(a,b):\n",
    "    try:\n",
    "        x=a/b\n",
    "        return x\n",
    "    except ZeroDivisionError:\n",
    "        return '0'\n",
    "print(function(5,0))\n",
    "    \n",
    "    "
   ]
  },
  {
   "cell_type": "code",
   "execution_count": 29,
   "metadata": {},
   "outputs": [
    {
     "name": "stdout",
     "output_type": "stream",
     "text": [
      "Score is 31.35 . You are Obese\n"
     ]
    }
   ],
   "source": [
    "# task 2\n",
    "\n",
    "def AmiKenoMota(height,weight):\n",
    "    cm=height\n",
    "    m=cm/100\n",
    "    kg=weight\n",
    "    BMI=kg/m**2\n",
    "    BMI=float('%.2f'%BMI)\n",
    "    if BMI<18.5:\n",
    "        print('Score is',BMI,'.','You are Underweight')\n",
    "    elif 18.5<=BMI<=24.9:\n",
    "        Print('Score is',BMI,'.','You are Normal ')\n",
    "    elif 25<=BMI<=30:\n",
    "        print('Score is',BMI,'.','You are Overweight')\n",
    "    elif BMI>30:\n",
    "        print('Score is',BMI,'.','You are Obese')\n",
    "AmiKenoMota(175,96)\n",
    "    "
   ]
  },
  {
   "cell_type": "code",
   "execution_count": 26,
   "metadata": {},
   "outputs": [
    {
     "name": "stdout",
     "output_type": "stream",
     "text": [
      "45\n"
     ]
    }
   ],
   "source": [
    "# task 3\n",
    "\n",
    "def divisor(minimum,maximum,divisor):\n",
    "    sum=0\n",
    "    for i in range(minimum,maximum):\n",
    "        if i%divisor==0:\n",
    "            sum+=i\n",
    "    return sum\n",
    "print(divisor(3,16,3))"
   ]
  },
  {
   "cell_type": "code",
   "execution_count": 31,
   "metadata": {},
   "outputs": [
    {
     "name": "stdout",
     "output_type": "stream",
     "text": [
      "243.6\n"
     ]
    }
   ],
   "source": [
    "# task 4\n",
    "\n",
    "food={'BBQ Chicken Cheese Burger':250,'Beef Burger':170,'Naga Drums':200}\n",
    "\n",
    "def Burger(burger,place='Mohakhali'):\n",
    "    amount=0\n",
    "    for i in food.items():\n",
    "        if i[0]==burger:\n",
    "            amount+=i[1]+i[1]*0.08\n",
    "        \n",
    "    if place=='Mohakhali':\n",
    "        amount+=40\n",
    "    else:\n",
    "        amount+=60\n",
    "    print(amount)\n",
    "Burger('Beef Burger','Dhanmondi')\n"
   ]
  },
  {
   "cell_type": "code",
   "execution_count": 36,
   "metadata": {},
   "outputs": [
    {
     "ename": "TypeError",
     "evalue": "email() missing 1 required positional argument: 'newdomain'",
     "output_type": "error",
     "traceback": [
      "\u001b[1;31m---------------------------------------------------------------------------\u001b[0m",
      "\u001b[1;31mTypeError\u001b[0m                                 Traceback (most recent call last)",
      "\u001b[1;32m<ipython-input-36-d42b2375c77f>\u001b[0m in \u001b[0;36m<module>\u001b[1;34m\u001b[0m\n\u001b[0;32m      6\u001b[0m         \u001b[1;32mif\u001b[0m \u001b[0mi\u001b[0m\u001b[1;33m==\u001b[0m\u001b[0mrev\u001b[0m\u001b[1;33m[\u001b[0m\u001b[1;33m:\u001b[0m\u001b[1;33m:\u001b[0m\u001b[1;33m-\u001b[0m\u001b[1;36m1\u001b[0m\u001b[1;33m]\u001b[0m\u001b[1;33m:\u001b[0m\u001b[1;33m\u001b[0m\u001b[1;33m\u001b[0m\u001b[0m\n\u001b[0;32m      7\u001b[0m             \u001b[0mprint\u001b[0m\u001b[1;33m(\u001b[0m\u001b[0mi\u001b[0m\u001b[1;33m)\u001b[0m\u001b[1;33m\u001b[0m\u001b[1;33m\u001b[0m\u001b[0m\n\u001b[1;32m----> 8\u001b[1;33m \u001b[0memail\u001b[0m\u001b[1;33m(\u001b[0m\u001b[1;34m'bob@sheba.xyz'\u001b[0m\u001b[1;33m,\u001b[0m\u001b[1;34m'sheba.xyz'\u001b[0m\u001b[1;33m)\u001b[0m\u001b[1;33m\u001b[0m\u001b[1;33m\u001b[0m\u001b[0m\n\u001b[0m",
      "\u001b[1;31mTypeError\u001b[0m: email() missing 1 required positional argument: 'newdomain'"
     ]
    }
   ],
   "source": [
    "# task 5\n",
    "\n",
    "def email(emailaddress,olddomain,newdomain):\n",
    "    rev=olddomain\n",
    "    for i in olddomain:\n",
    "        if i==rev[::-1]:\n",
    "            print(i)\n",
    "email('bob@sheba.xyz','sheba.xyz')"
   ]
  },
  {
   "cell_type": "code",
   "execution_count": 25,
   "metadata": {},
   "outputs": [
    {
     "name": "stdout",
     "output_type": "stream",
     "text": [
      "enter name: Steve Jobs\n",
      "Vowels: e,e,o . Totals number of vowels: 3\n"
     ]
    }
   ],
   "source": [
    "# task 6\n",
    "\n",
    "name=input('enter name: ')\n",
    "def letter(name):\n",
    "    count=0\n",
    "    vowels=''\n",
    "    for i in name:\n",
    "        if i=='a' or i=='e' or i=='i' or i=='o' or i=='u':\n",
    "            count+=1\n",
    "            vowels+=i+','\n",
    "    if count!=0:\n",
    "        print('Vowels:',vowels[:-1],'.','Totals number of vowels:',count)\n",
    "\n",
    "    else:\n",
    "        print('No vowels in the name')\n",
    "letter(name)"
   ]
  },
  {
   "cell_type": "code",
   "execution_count": 24,
   "metadata": {},
   "outputs": [
    {
     "name": "stdout",
     "output_type": "stream",
     "text": [
      "enter string: 'hello'\n",
      "Not a palindrome\n"
     ]
    }
   ],
   "source": [
    "# task 7 \n",
    "\n",
    "x=input('enter string: ')\n",
    "def palindrome(x):\n",
    "    rev_x=x[::-1]\n",
    "    if x==rev_x:\n",
    "        print('Palindrome')\n",
    "    else:\n",
    "        print('Not a palindrome')\n",
    "palindrome(x)"
   ]
  },
  {
   "cell_type": "code",
   "execution_count": 14,
   "metadata": {},
   "outputs": [
    {
     "name": "stdout",
     "output_type": "stream",
     "text": [
      "enter number of days: 4320\n",
      "11 years, 10 months and 5 days\n"
     ]
    }
   ],
   "source": [
    "# task 8\n",
    "\n",
    "days=int(input('enter number of days: '))\n",
    "def function(days):\n",
    "    years=days//365\n",
    "    remaining=days%365\n",
    "    months=remaining//30\n",
    "    days=remaining%30\n",
    "    print(years,'years,',months,'months','and',days,'days')\n",
    "function(days)"
   ]
  },
  {
   "cell_type": "code",
   "execution_count": 1,
   "metadata": {},
   "outputs": [
    {
     "ename": "SyntaxError",
     "evalue": "invalid syntax (<ipython-input-1-a2a531f71bf5>, line 6)",
     "output_type": "error",
     "traceback": [
      "\u001b[1;36m  File \u001b[1;32m\"<ipython-input-1-a2a531f71bf5>\"\u001b[1;36m, line \u001b[1;32m6\u001b[0m\n\u001b[1;33m    if string[i]==:\u001b[0m\n\u001b[1;37m                  ^\u001b[0m\n\u001b[1;31mSyntaxError\u001b[0m\u001b[1;31m:\u001b[0m invalid syntax\n"
     ]
    }
   ],
   "source": [
    "# task 9\n",
    "\n",
    "def letter(string):\n",
    "    g=''\n",
    "    for i in range(len(string)):\n",
    "        if string[i]==:\n",
    "            g+=i.upper()\n",
    "        #if i=='.' or i=='!' or i=='?':\n",
    "            #g+=i[:0].upper()\n",
    "                \n",
    "    print(g)\n",
    "letter(\"my favourite animal is a dog.a dog has sharp teeth so that it can eat flesh very easily.Do you know my pet dog's name?i love my pet very much\")\n",
    "\n",
    "            "
   ]
  },
  {
   "cell_type": "code",
   "execution_count": null,
   "metadata": {},
   "outputs": [],
   "source": []
  }
 ],
 "metadata": {
  "kernelspec": {
   "display_name": "Python 3",
   "language": "python",
   "name": "python3"
  },
  "language_info": {
   "codemirror_mode": {
    "name": "ipython",
    "version": 3
   },
   "file_extension": ".py",
   "mimetype": "text/x-python",
   "name": "python",
   "nbconvert_exporter": "python",
   "pygments_lexer": "ipython3",
   "version": "3.8.8"
  }
 },
 "nbformat": 4,
 "nbformat_minor": 4
}
