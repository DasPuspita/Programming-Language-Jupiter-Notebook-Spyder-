{
 "cells": [
  {
   "cell_type": "markdown",
   "metadata": {
    "colab_type": "text",
    "id": "ZXvFDb3VLf5p"
   },
   "source": [
    "# CSE110 Assignment 6\n",
    "This assignment is to guide you to solve everything you have learned so far by implementing Exceptions in Python. \n",
    "\n",
    "**<font color='red'>[MUST MAINTAIN VARIABLE NAMING CONVENTIONS FOR ALL THE TASKS]</font>**\n",
    "\n",
    "## Write the Python code of the following problems:\n"
   ]
  },
  {
   "cell_type": "markdown",
   "metadata": {
    "colab_type": "text",
    "id": "tZow-v3MLoLE"
   },
   "source": [
    "### Task 1\n",
    "Given a list named my_list.\n",
    "my_list=[10,20,30,40,60,100,2,5]\n",
    "\n",
    "Write a python program that takes the position as an input from the user and prints the element of that position from the list. \n",
    "\n",
    "If the user’s input position is not in the range, return an exception stating “Index out of range”.\n",
    "\n",
    "Make sure your program always prints “Program ended” at the end, no matter what happens.\n",
    "\n",
    "Hint: Use finally block\n",
    "\n",
    "**Example 1:** \\\n",
    "**Input:**\\\n",
    "1\\\n",
    "**Output:**\\\n",
    "20\\\n",
    "Program ended\n",
    "\n",
    "=============================\n",
    "\n",
    "**Example 2:** \\\n",
    "**Input:**\\\n",
    "10\\\n",
    "**Output:**\\\n",
    "Index out of range.\\\n",
    "Program ended\n"
   ]
  },
  {
   "cell_type": "code",
   "execution_count": 27,
   "metadata": {
    "colab": {},
    "colab_type": "code",
    "id": "c9yKuS5kLdDO"
   },
   "outputs": [
    {
     "name": "stdout",
     "output_type": "stream",
     "text": [
      "enter position: 1\n",
      "20\n",
      "Program ended\n"
     ]
    }
   ],
   "source": [
    "a=int(input('enter position: '))\n",
    "my_list=[10,20,30,40,60,100,2,5]\n",
    "try:\n",
    "    print(my_list[a])\n",
    "except Exception:\n",
    "    print(\"Index out of range\")\n",
    "finally:\n",
    "    print(\"Program ended\")"
   ]
  },
  {
   "cell_type": "markdown",
   "metadata": {
    "colab_type": "text",
    "id": "gD4MMyO_Mtw4"
   },
   "source": [
    "### Task 2\n",
    "\n",
    "Suppose you have a dictionary named my_dictionary containing the name of some groceries and their prices.\\\n",
    "my_dictionary={“Potato”:12, “Onion”:16, “Ginger”:15, “Garlic”:12, “Tomato:”:15}\n",
    "\n",
    "Now write a python program that takes the grocerie names as input from the users and shows the total price of the groceries.\n",
    "\n",
    "Some exceptions to handle:\n",
    "* Handle the exception when the given key is not present in the dictionary.\n",
    "* Handle the exception when the summation variable is not initialized.\n",
    "\n",
    "**Example 1:** \\\n",
    "**Input:**\\\n",
    "Potato,Onion,Ginger\\\n",
    "**Output:**\\\n",
    "43\n",
    "\n",
    "=============================\n",
    "\n",
    "**Example 2:** \\\n",
    "**Input:**\\\n",
    "Potato,Onion,Ginger,Beef\\\n",
    "**Output:**\\\n",
    "Some groceries are not available in the dictionary.\n"
   ]
  },
  {
   "cell_type": "code",
   "execution_count": 1,
   "metadata": {
    "colab": {},
    "colab_type": "code",
    "id": "15umlUXTNe5N"
   },
   "outputs": [
    {
     "name": "stdout",
     "output_type": "stream",
     "text": [
      "Potato,Onion,Ginger\n",
      "43\n"
     ]
    }
   ],
   "source": [
    "my_dictionary={\"Potato\":12,\"Onion\":16,\"Ginger\":15,\"Garlic\":12,\"Tomato\":15}\n",
    "try:\n",
    "    order=[str(x)for x in input().split(\",\")]\n",
    "    sum=0\n",
    "    for i in order:\n",
    "        if i in my_dictionary:\n",
    "            sum+=my_dictionary[i]\n",
    "    print(sum)        \n",
    "except KeyError:\n",
    "    print('some groceries are not available')"
   ]
  },
  {
   "cell_type": "markdown",
   "metadata": {
    "colab_type": "text",
    "id": "l5SgF6kTN7vY"
   },
   "source": [
    "### Task 3\n",
    "Write a python program that takes two lists as input from the user, multiplies the index wise elements of the two lists and adds it to a new variable. While doing the program you should handle the following exceptions:\n",
    "* Return an exception when the new variable is not declared stating “The new variable is not declared”.\n",
    "* Return an exception if an element in a list is not a number stating “The list has some non number values”.\n",
    "* Return an exception if there is an index out of bound stating “Index out of bound”.\n",
    "\n",
    "**Example 1:** \\\n",
    "**Input:**\\\n",
    "list_one = [1, a, 2, 4]\\\n",
    "List_two =[5, 6, 7, 8]\\\n",
    "**Output:**\\\n",
    "The list has some non number values\n",
    "\n",
    "=================\n",
    "\n",
    "**Example 2:** \\\n",
    "**Input:**\\\n",
    "list_one=[1, 2, 3, 4, 5]\\\n",
    "list_two=[1, 2, 3, 4]\\\n",
    "**Output:**\\\n",
    "Index out of bound\n",
    "\n",
    "=================\n",
    "\n",
    "**Example 3:** \\\n",
    "**Input:**\\\n",
    "list_one=[1,2,3,4]\\\n",
    "list_two=[5,6,7,8]\\\n",
    "**Output:**\\\n",
    "70\n",
    "\n",
    "\n"
   ]
  },
  {
   "cell_type": "code",
   "execution_count": 2,
   "metadata": {
    "colab": {},
    "colab_type": "code",
    "id": "oFpEZFRhOlvV"
   },
   "outputs": [
    {
     "name": "stdout",
     "output_type": "stream",
     "text": [
      "enter your list :q,1,2,3\n",
      "enter another list: 1,2,d\n",
      "The list has some non number values\n"
     ]
    }
   ],
   "source": [
    "try:\n",
    "    list_one = input('enter your list :').split(',')\n",
    "    list_two = input('enter another list: ').split(',')\n",
    "    for i in range(len(list_one)):\n",
    "        num = int(list_one[i])\n",
    "        for j in range(len(list_two)):\n",
    "            num2 = int(list_two[i])\n",
    "        mul = num*num2\n",
    "        vari = vari + mul\n",
    "except NameError:\n",
    "    vari = 0\n",
    "    for i in range(len(list_one)):\n",
    "        num = int(list_one[i])\n",
    "        for j in range(len(list_two)):\n",
    "            num2 = int(list_two[i])\n",
    "        mul = num*num2\n",
    "        vari = vari + mul\n",
    "    print(vari)\n",
    "except ValueError:\n",
    "    print('The list has some non number values')\n",
    "except IndexError:\n",
    "    print('Index out of bound')"
   ]
  },
  {
   "cell_type": "markdown",
   "metadata": {
    "colab_type": "text",
    "id": "iBqIUN-WOnvW"
   },
   "source": [
    "### Task 4\n",
    "Write a python program that will take a string input from the user. Your task is to count the number of vowels and consonants in the string.\n",
    "\n",
    "Using try, if the number of vowels is greater than or equal to the number of consonants than raise a runtime error. Print 'Number of vowels greater/equal to consonants. Please, paraphrase'.\\\n",
    "Otherwise, print 'The sentence will work'. \n",
    "\n",
    "**Note:** a,e,i,o,u are called vowels and all the other 21 english alphabets are consonants.\n",
    "\n",
    "**Example 1:** \\\n",
    "**Input:**\\\n",
    "'his age is 10'\\\n",
    "**Output:**\\\n",
    "Number of vowels is greater/equal. Paraphrase the sentence\n",
    "\n",
    "=================\n",
    "\n",
    "**Example 2:** \\\n",
    "**Input:**\\\n",
    "'he is 10 years old'\\\n",
    "**Output:**\\\n",
    "The sentence will work"
   ]
  },
  {
   "cell_type": "code",
   "execution_count": 2,
   "metadata": {
    "colab": {},
    "colab_type": "code",
    "id": "-4kg2W2EPwVo"
   },
   "outputs": [
    {
     "name": "stdout",
     "output_type": "stream",
     "text": [
      "enter a string: his age is 10\n",
      "Number of vowels is greater/equal. Paraphrase the sentence\n"
     ]
    }
   ],
   "source": [
    "try:\n",
    "    string = input('enter a string: ')\n",
    "    vow = 0\n",
    "    con = 0\n",
    "    for i in string:\n",
    "        if ord(i) >= 97 and ord(i) <= 122:\n",
    "            if i == 'a' or i == 'e' or i == 'i' or i == 'o' or i == 'u':\n",
    "                vow += 1\n",
    "            else: \n",
    "                con += 1\n",
    "    if vow >= con:\n",
    "        raise Exception\n",
    "    else:\n",
    "        print('The sentence will work')\n",
    "except Exception:\n",
    "    print('Number of vowels is greater/equal. Paraphrase the sentence')"
   ]
  },
  {
   "cell_type": "markdown",
   "metadata": {
    "colab_type": "text",
    "id": "pl4CDeUkPxeM"
   },
   "source": [
    "### Task 5\n",
    "Write a python program that finds the corresponding energy values from a list of frequency values which are taken as input from the user, using the formula, $E=h*f$, where h is a constant of value: 1050\n",
    "\n",
    "Exceptions to handle:\n",
    "* Make sure all elements in the lists are numbers\n",
    "\n",
    "\n",
    "**Example 1:** \\\n",
    "**Input:**\\\n",
    "[$2$,$3$]\\\n",
    "**Output:**\\\n",
    "[$2100$, $3150$]\n",
    "\n",
    "=================\n",
    "\n",
    "**Example 2:** \\\n",
    "**Input:**\\\n",
    "[2,boss]\\\n",
    "**Output:**\\\n",
    "Wrong input type"
   ]
  },
  {
   "cell_type": "code",
   "execution_count": 5,
   "metadata": {
    "colab": {},
    "colab_type": "code",
    "id": "vdYQH9qnQvVo"
   },
   "outputs": [
    {
     "name": "stdout",
     "output_type": "stream",
     "text": [
      "enter frequencies: 12,34,5\n",
      "[12600, 35700, 5250]\n"
     ]
    }
   ],
   "source": [
    "try:\n",
    "    list1 = input('enter frequencies: ').split(',')\n",
    "    list2 = []\n",
    "    h = 1050\n",
    "    for i in list1:\n",
    "        f = int(i)\n",
    "        E = h * f\n",
    "        list2.append(E)\n",
    "    print(list2)\n",
    "except ValueError:\n",
    "    print('Wrong input type')"
   ]
  },
  {
   "cell_type": "markdown",
   "metadata": {
    "colab_type": "text",
    "id": "RdshPzpJRcsD"
   },
   "source": [
    "### Task 6\n",
    "Write a python function that will remove a given character from a sentence based on the starting and ending index of the sentence. In the place of the removed characters, add the count of the number of characters removed so far. For this program, you need to take 4 user inputs.\n",
    "* Sentence\n",
    "* Character to be removed\n",
    "* Starting index (inclusive)\n",
    "* Ending index (inclusive)\n",
    "\n",
    "Few exceptions to catch: \n",
    "* Name Error if a variable is not found. Print ‘Name Error: Variable not defined’\n",
    "* Value Error if the starting index and ending index is not an integer. Print ‘Value Error: Wrong input, please enter an integer value.’\n",
    "* Type Error when adding count in the new sentence. Print ‘Type Error: Cannot add integer value with string.’\n",
    "* Index Error if the starting and ending index is out of range. Print ‘Index Error: Index is outside the range of sentence length.’\n",
    "* For other exceptions, catch Exception. Print ‘Some other error occurred.’\n",
    "\n",
    "If no exception occurred, print the new string using else block. At the end using finally, print ‘The program execution is complete’.\n",
    "\n",
    "**Example 1:** \\\n",
    "**Input:**\\\n",
    "'my python programming book'\\\n",
    "'m'\\\n",
    "2\\\n",
    "20\\\n",
    "**Output:**\\\n",
    "my python progra12ing book\\\n",
    "The program execution is complete\n",
    "\n",
    "=================\n",
    "\n",
    "**Example 2:** \\\n",
    "**Input:**\\\n",
    "'my python programming book'\\\n",
    "'m'\\\n",
    "2.5\\\n",
    "20\\\n",
    "**Output:**\\\n",
    "Value Error: Wrong input, please enter an integer value.\\\n",
    "The program execution is complete\n",
    "\n",
    "=================\n",
    "\n",
    "**Example 3:** \\\n",
    "**Input:**\\\n",
    "'my python programming book'\\\n",
    "'m'\\\n",
    "2\\\n",
    "100\\\n",
    "**Output:**\\\n",
    "Index Error: Index is outside the range of sentence length.\\\n",
    "The program execution is complete\n"
   ]
  },
  {
   "cell_type": "code",
   "execution_count": 1,
   "metadata": {
    "colab": {},
    "colab_type": "code",
    "id": "bcU6dV5BSl7d"
   },
   "outputs": [
    {
     "name": "stdout",
     "output_type": "stream",
     "text": [
      "enter a string: my python programming book\n",
      "enter the character to be removed: m\n",
      "enter starting index: 2\n",
      "enter ending index: 20\n",
      "my python progra12ing book\n",
      "The program execution is complete\n"
     ]
    }
   ],
   "source": [
    "try:\n",
    "    sen = input('enter a string: ')\n",
    "    list1 = list(sen)\n",
    "    cha_r = input('enter the character to be removed: ')\n",
    "    sta_i = int(input('enter starting index: '))\n",
    "    end_i = int(input('enter ending index: '))\n",
    "    string1 = ''\n",
    "    num1 = 0\n",
    "    for i in range(sta_i,end_i+1):\n",
    "        if cha_r == list1[i]:\n",
    "            num1 += 1\n",
    "            list1[i] = str(num1)\n",
    "    for i in list1:\n",
    "        string1 += i\n",
    "except ValueError:\n",
    "    print('Wrong input, please enter an integer value.')\n",
    "except IndexError:\n",
    "    print('Index is outside the range of sentence length.')\n",
    "except NameError:\n",
    "    print('Variable not defined')\n",
    "except TypeError:\n",
    "    print('Cannot add integer value with string')\n",
    "except Exception:\n",
    "    print('Some other error occurred.')\n",
    "else: \n",
    "    print(string1)\n",
    "finally:\n",
    "    print('The program execution is complete')"
   ]
  },
  {
   "cell_type": "markdown",
   "metadata": {
    "colab_type": "text",
    "id": "SjU5ufx8Snv3"
   },
   "source": [
    "### Task 7\n",
    "Read a **file** from the user which contains the  name and salary of employees. Convert that to a dictionary where the key is the name of each employee and value is the salary of that employee. Then find the total cost for the company that it needs to pay through employees’ salary. Print the dictionary and sum if no exception occurs.\n",
    "\n",
    "Exception to handle:\n",
    "* check whether file is actually there\n",
    "* Check whether the salary in each line is a number or not.\n",
    "* Raise error if there are extra numbers or names\n",
    "\n",
    "**Example 1:** \\\n",
    "**Input:**\\\n",
    "Saadat 100\\\n",
    "Farzad 200\\\n",
    "Atef 300\\\n",
    "**Output:**\\\n",
    "dict={Saadat : 100, Farzad : 200, Atef : 300}\\\n",
    "Sum = 600\n",
    "\n",
    "=================\n",
    "\n",
    "**Example 2:** \\\n",
    "**Input:**\\\n",
    "Saadat 100\\\n",
    "Farzad 200\\\n",
    "Atef 300\\\n",
    "John\\\n",
    "**Output:**\\\n",
    "Extra Statement\n"
   ]
  },
  {
   "cell_type": "code",
   "execution_count": null,
   "metadata": {
    "colab": {},
    "colab_type": "code",
    "id": "SUxJ1iCXUAPg"
   },
   "outputs": [],
   "source": [
    "try:\n",
    "    file = open('C:\\\\Users\\\\DELL\\\\Desktop\\\\project\\\\name_salary.txt','r')\n",
    "    list1 = file.readlines()\n",
    "    dict1 = {}\n",
    "    for i in list1:\n",
    "        string = i.split(' ')\n",
    "        if string[1] == '':\n",
    "            raise Exception\n",
    "        else:\n",
    "            dict1[string[0]] = int(string[1])\n",
    "    print(dict1)\n",
    "    sum = 0\n",
    "    for i in dict1.values():\n",
    "            sum = sum + i\n",
    "    print('sum =',sum)\n",
    "except FileNotFoundError:\n",
    "    print('File does not exist.')\n",
    "except ValueError:\n",
    "    print('The salary is not a number.')\n",
    "except Exception:\n",
    "    print('Extra number/ name')"
   ]
  },
  {
   "cell_type": "markdown",
   "metadata": {
    "colab_type": "text",
    "id": "GC6Y943uUNHY"
   },
   "source": [
    "### Task 8\n",
    "Imagine Salman Khan is going to the sets of a new movie. He decides to cycle everyday on his way to the sets. For that he uses a distance calculator which finds the distance based on the present day's date, which is asked as an input from the user. You should first take the day and then the month as your inputs.\n",
    "The inputs should be stored in variables named `day` and `month` The distance calculator uses the following formulae to calculate a number which dictates the number of kilometers he must cycle on his way to work.\n",
    "\n",
    "Exceptions to handle:\\\n",
    "-Check for 0 division error exception\\\n",
    "-Type error exception when taking date as input\\\n",
    "-Value error exception, as day can not be greater than 31 and month can not be greater than 12\n",
    "\n",
    "\n",
    "\n",
    "\n",
    "\n",
    "\n",
    "\n",
    "\n",
    "\n",
    "\n",
    "\n",
    "\n",
    "\n",
    "\n",
    "Distance = |if day<10, `5+(day*2)/month`\\\n",
    "&nbsp;&nbsp;&nbsp;&nbsp;&nbsp;&nbsp;&nbsp;&nbsp;&nbsp;&nbsp;&nbsp;&nbsp;&nbsp;&nbsp;&nbsp;&nbsp;&nbsp;&nbsp;&nbsp; |else, `3+(day/month)`\n",
    "\n",
    "\n",
    "**Example 1:** \\\n",
    "**Input:**\\\n",
    "3\\\n",
    "5\\\n",
    "**Output:**\\\n",
    "6.2 kilometres\n",
    "\n",
    "=================\n",
    "\n",
    "**Example 2:** \\\n",
    "**Input:**\\\n",
    "2\\\n",
    "0\\\n",
    "**Output:**\\\n",
    "0 is not a valid month\n",
    "\n",
    "**Example 3:** \\\n",
    "**Input:**\\\n",
    "35\\\n",
    "12\\\n",
    "**Output:**\\\n",
    "35 is not a valid day of any month\n",
    "\n",
    "\n",
    "**Example 4:** \\\n",
    "**Input:**\\\n",
    "Hello\\\n",
    "12\\\n",
    "**Output:**\\\n",
    "Please do not enter any string as input\n",
    "\n",
    "\n",
    "**Example 5:** \\\n",
    "**Input:**\\\n",
    "15\\\n",
    "12\\\n",
    "**Output:**\\\n",
    "4.25 kilometres\n",
    "\n",
    "\n",
    "\n",
    "\n"
   ]
  },
  {
   "cell_type": "code",
   "execution_count": 3,
   "metadata": {
    "colab": {},
    "colab_type": "code",
    "id": "fg9mQUaEWH7a"
   },
   "outputs": [
    {
     "name": "stdout",
     "output_type": "stream",
     "text": [
      "enter the day: 3\n",
      "enter the month: 5\n",
      "Distance = 6.2 Kilometres\n"
     ]
    }
   ],
   "source": [
    "\n",
    "try:\n",
    "    day = int(input('enter the day: '))\n",
    "    month = int(input('enter the month: ')) \n",
    "    if day > 31 or day < 1:\n",
    "        raise Exception(day,' is not a valid day of any month')\n",
    "    elif month > 12 or month < 1:\n",
    "        raise Exception(month,' is not a valid month')\n",
    "    else:\n",
    "        if day < 10:\n",
    "            distance = 5+(day*2)/month\n",
    "            print('Distance =', distance, 'Kilometres')\n",
    "        else:\n",
    "            distance = 3+(day/month)\n",
    "            print('Distance =',distance, 'Kilometres')\n",
    "except ValueError:\n",
    "    print('Please do not enter any string as input')\n",
    "except TypeError:\n",
    "    print('Please do not enter any string as input')\n",
    "except ZeroDivisionError:\n",
    "    print('0 is not a valid month')\n",
    "except Exception as error:\n",
    "    print(''+repr(error))    "
   ]
  },
  {
   "cell_type": "markdown",
   "metadata": {
    "colab_type": "text",
    "id": "2Xzq6xJNWvbf"
   },
   "source": [
    "### Task 9\n",
    "Write a python program to make a calculator. The user must input a string consisting of a number, operator and another number separated by white spaces.\n",
    "* If the user’s input does not contain 3 elements, raise an exception error stating “Input does not contain 3 elements/Wrong operator”.\n",
    "* If the user inputs any other values except numbers in first and third position of the input, raise value error exception stating “Input does not contain numbers.” \n",
    "* If the user does not input ‘+’ or ‘-’ or ’/’ or ‘*’ or ‘%’ in second position of the input, again raise an exception stating “Input does not contain 3 elements/Wrong operator”.\n",
    "* In case of division, also handle divide by zero exception.\n",
    "\n",
    "If all the inputs are correct, calculate the result and print the value.\n",
    "\n",
    "**Example 1:** \\\n",
    "**Input:**\\\n",
    "1 + 1 + 1\\\n",
    "**Output:**\\\n",
    "Input does not contain 3 elements/Wrong operator\n",
    "\n",
    "=================\n",
    "\n",
    "**Example 2:** \\\n",
    "**Input:**\\\n",
    "A * B\\\n",
    "**Output:**\\\n",
    "Input does not contain numbers.\n",
    "\n",
    "=================\n",
    "\n",
    "**Example 3:** \\\n",
    "**Input:**\\\n",
    "1 $ 3\\\n",
    "**Output:**\\\n",
    "Input does not contain 3 elements/Wrong operator\n",
    "\n",
    "=================\n",
    "\n",
    "**Example 4:** \\\n",
    "**Input:**\\\n",
    "1 + 1\\\n",
    "**Output:**\\\n",
    "The answer is : 2\n"
   ]
  },
  {
   "cell_type": "code",
   "execution_count": 2,
   "metadata": {},
   "outputs": [
    {
     "name": "stdout",
     "output_type": "stream",
     "text": [
      "enter a string consisting of a number, operator and another number separated by white spaces: A*B\n",
      "Input does not contain numbers.\n"
     ]
    }
   ],
   "source": [
    "try:\n",
    "    string = input('enter a string consisting of a number, operator and another number separated by white spaces: ').split(' ')\n",
    "    if not(string[0].isnumeric() and string[2].isnumeric()):\n",
    "        raise ValueError\n",
    "    else:\n",
    "        if len(string) == 3:\n",
    "            if string[1] == '+':\n",
    "                res = int(string[0]) + int(string[2])\n",
    "                print('The ans is',res)\n",
    "            elif string[1] == '-':\n",
    "                res = int(string[0]) - int(string[2])\n",
    "                print('The ans is',res)\n",
    "            elif string[1] == '*':\n",
    "                res = int(string[0]) * int(string[2])\n",
    "                print('The ans is',res)\n",
    "            elif string[1] == '/':\n",
    "                res = int(string[0]) / int(string[2])\n",
    "                print('The ans is',res)\n",
    "            else:\n",
    "                raise Exception\n",
    "        else:\n",
    "            raise Exception\n",
    "except ZeroDivisionError:\n",
    "    print('Cannot divided by zero.')\n",
    "except ValueError:\n",
    "    print('Input does not contain numbers.')\n",
    "except Exception:\n",
    "    print('Input does not contain 3 elements/Wrong operator.')\n",
    "    "
   ]
  },
  {
   "cell_type": "code",
   "execution_count": null,
   "metadata": {},
   "outputs": [],
   "source": []
  }
 ],
 "metadata": {
  "colab": {
   "collapsed_sections": [],
   "name": "CSE110 Assignment06.ipynb",
   "provenance": []
  },
  "kernelspec": {
   "display_name": "Python 3",
   "language": "python",
   "name": "python3"
  },
  "language_info": {
   "codemirror_mode": {
    "name": "ipython",
    "version": 3
   },
   "file_extension": ".py",
   "mimetype": "text/x-python",
   "name": "python",
   "nbconvert_exporter": "python",
   "pygments_lexer": "ipython3",
   "version": "3.8.8"
  }
 },
 "nbformat": 4,
 "nbformat_minor": 1
}
